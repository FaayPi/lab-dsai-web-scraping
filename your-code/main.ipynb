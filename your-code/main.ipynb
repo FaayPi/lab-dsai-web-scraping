{
 "cells": [
  {
   "cell_type": "markdown",
   "metadata": {},
   "source": [
    "# Web Scraping Lab\n",
    "\n",
    "You will find in this notebook some scrapy exercises to practise your scraping skills.\n",
    "\n",
    "**Tips:**\n",
    "\n",
    "- Check the response status code for each request to ensure you have obtained the intended content.\n",
    "- Print the response text in each request to understand the kind of info you are getting and its format.\n",
    "- Check for patterns in the response text to extract the data/info requested in each question.\n",
    "- Visit the urls below and take a look at their source code through Chrome DevTools. You'll need to identify the html tags, special class names, etc used in the html content you are expected to extract.\n",
    "\n",
    "**Resources**:\n",
    "- [Requests library](http://docs.python-requests.org/en/master/#the-user-guide)\n",
    "- [Beautiful Soup Doc](https://www.crummy.com/software/BeautifulSoup/bs4/doc/)\n",
    "- [Urllib](https://docs.python.org/3/library/urllib.html#module-urllib)\n",
    "- [re lib](https://docs.python.org/3/library/re.html)\n",
    "- [lxml lib](https://lxml.de/)\n",
    "- [Scrapy](https://scrapy.org/)\n",
    "- [List of HTTP status codes](https://en.wikipedia.org/wiki/List_of_HTTP_status_codes)\n",
    "- [HTML basics](http://www.simplehtmlguide.com/cheatsheet.php)\n",
    "- [CSS basics](https://www.cssbasics.com/#page_start)"
   ]
  },
  {
   "cell_type": "markdown",
   "metadata": {},
   "source": [
    "#### Below are the libraries and modules you may need. `requests`,  `BeautifulSoup` and `pandas` are already imported for you. If you prefer to use additional libraries feel free to do it."
   ]
  },
  {
   "cell_type": "code",
   "execution_count": 2,
   "metadata": {},
   "outputs": [],
   "source": [
    "import requests\n",
    "from bs4 import BeautifulSoup\n",
    "import pandas as pd"
   ]
  },
  {
   "cell_type": "markdown",
   "metadata": {},
   "source": [
    "#### Download, parse (using BeautifulSoup), and print the content from the Trending Developers page from GitHub:"
   ]
  },
  {
   "cell_type": "code",
   "execution_count": 3,
   "metadata": {},
   "outputs": [],
   "source": [
    "# This is the url you will scrape in this exercise\n",
    "url = 'https://github.com/trending/developers'"
   ]
  },
  {
   "cell_type": "code",
   "execution_count": 10,
   "metadata": {},
   "outputs": [
    {
     "name": "stdout",
     "output_type": "stream",
     "text": [
      "{'Date': 'Mon, 28 Apr 2025 12:49:00 GMT', 'Content-Type': 'text/html; charset=utf-8', 'Vary': 'X-PJAX, X-PJAX-Container, Turbo-Visit, Turbo-Frame,Accept-Encoding, Accept, X-Requested-With', 'ETag': 'W/\"86016d1b87ae1e29c58566e3a0b84cc5\"', 'Cache-Control': 'max-age=0, private, must-revalidate', 'Strict-Transport-Security': 'max-age=31536000; includeSubdomains; preload', 'X-Frame-Options': 'deny', 'X-Content-Type-Options': 'nosniff', 'X-XSS-Protection': '0', 'Referrer-Policy': 'origin-when-cross-origin, strict-origin-when-cross-origin', 'Content-Security-Policy': \"default-src 'none'; base-uri 'self'; child-src github.githubassets.com github.com/assets-cdn/worker/ github.com/assets/ gist.github.com/assets-cdn/worker/; connect-src 'self' uploads.github.com www.githubstatus.com collector.github.com raw.githubusercontent.com api.github.com github-cloud.s3.amazonaws.com github-production-repository-file-5c1aeb.s3.amazonaws.com github-production-upload-manifest-file-7fdce7.s3.amazonaws.com github-production-user-asset-6210df.s3.amazonaws.com *.rel.tunnels.api.visualstudio.com wss://*.rel.tunnels.api.visualstudio.com objects-origin.githubusercontent.com copilot-proxy.githubusercontent.com proxy.individual.githubcopilot.com proxy.business.githubcopilot.com proxy.enterprise.githubcopilot.com *.actions.githubusercontent.com wss://*.actions.githubusercontent.com productionresultssa0.blob.core.windows.net/ productionresultssa1.blob.core.windows.net/ productionresultssa2.blob.core.windows.net/ productionresultssa3.blob.core.windows.net/ productionresultssa4.blob.core.windows.net/ productionresultssa5.blob.core.windows.net/ productionresultssa6.blob.core.windows.net/ productionresultssa7.blob.core.windows.net/ productionresultssa8.blob.core.windows.net/ productionresultssa9.blob.core.windows.net/ productionresultssa10.blob.core.windows.net/ productionresultssa11.blob.core.windows.net/ productionresultssa12.blob.core.windows.net/ productionresultssa13.blob.core.windows.net/ productionresultssa14.blob.core.windows.net/ productionresultssa15.blob.core.windows.net/ productionresultssa16.blob.core.windows.net/ productionresultssa17.blob.core.windows.net/ productionresultssa18.blob.core.windows.net/ productionresultssa19.blob.core.windows.net/ github-production-repository-image-32fea6.s3.amazonaws.com github-production-release-asset-2e65be.s3.amazonaws.com insights.github.com wss://alive.github.com api.githubcopilot.com api.individual.githubcopilot.com api.business.githubcopilot.com api.enterprise.githubcopilot.com; font-src github.githubassets.com; form-action 'self' github.com gist.github.com copilot-workspace.githubnext.com objects-origin.githubusercontent.com; frame-ancestors 'none'; frame-src viewscreen.githubusercontent.com notebooks.githubusercontent.com; img-src 'self' data: blob: github.githubassets.com media.githubusercontent.com camo.githubusercontent.com identicons.github.com avatars.githubusercontent.com private-avatars.githubusercontent.com github-cloud.s3.amazonaws.com objects.githubusercontent.com release-assets.githubusercontent.com secured-user-images.githubusercontent.com/ user-images.githubusercontent.com/ private-user-images.githubusercontent.com opengraph.githubassets.com copilotprodattachments.blob.core.windows.net/github-production-copilot-attachments/ github-production-user-asset-6210df.s3.amazonaws.com customer-stories-feed.github.com spotlights-feed.github.com objects-origin.githubusercontent.com *.githubusercontent.com; manifest-src 'self'; media-src github.com user-images.githubusercontent.com/ secured-user-images.githubusercontent.com/ private-user-images.githubusercontent.com github-production-user-asset-6210df.s3.amazonaws.com gist.github.com; script-src github.githubassets.com; style-src 'unsafe-inline' github.githubassets.com; upgrade-insecure-requests; worker-src github.githubassets.com github.com/assets-cdn/worker/ github.com/assets/ gist.github.com/assets-cdn/worker/\", 'Server': 'github.com', 'Content-Encoding': 'gzip', 'Accept-Ranges': 'bytes', 'Set-Cookie': '_gh_sess=U5DdlLupvsRef4mwM%2F%2BboOrd0wb8Nil8Lh4oJu3QcwhY%2BpgnuGjB75zXfi5P%2FX49lhOz%2BK4f7PQo7yy%2Bj061wQE8f0R3LSpAC7OjacPOmGNoiyUBpF14EntSiSwNqQmjnti87x%2Fi%2Bu%2BROmX6GKIvoHNVwxkbfUpKAUGMEMvbH6u7A%2BdZxx27mXyMCS6cf61XMnctZ6tRug8g4paEPk%2FYzDeHbCvnOb4Xr8TYTKJWPbJEmVkgJQNoXOZLFHydSsFtWcgkBfb6LBGu385UM1v%2FAw%3D%3D--1pOEZicX29M245wp--mCMf3AYGwdiP3S6jjUQvew%3D%3D; Path=/; HttpOnly; Secure; SameSite=Lax, _octo=GH1.1.366735803.1745844540; Path=/; Domain=github.com; Expires=Tue, 28 Apr 2026 12:49:00 GMT; Secure; SameSite=Lax, logged_in=no; Path=/; Domain=github.com; Expires=Tue, 28 Apr 2026 12:49:00 GMT; HttpOnly; Secure; SameSite=Lax', 'X-GitHub-Request-Id': '5036:95391:3B764C4:3D330D9:680F793C', 'Transfer-Encoding': 'chunked'}\n"
     ]
    }
   ],
   "source": [
    "# your code here\n",
    "headers = {\n",
    "    \"User-Agent\": \"Mozilla/5.0 (Macintosh; Intel Mac OS X 10_15_7) AppleWebKit/537.36 (KHTML, like Gecko) Chrome/122.0.0.0 Safari/537.36\"\n",
    "}\n",
    "\n",
    "response = requests.get(url, headers=headers)\n",
    "soup = BeautifulSoup(response.content, \"html.parser\")\n",
    "\n",
    "print(response.headers)"
   ]
  },
  {
   "cell_type": "markdown",
   "metadata": {},
   "source": [
    "#### 1. Display the names of the trending developers retrieved in the previous step.\n",
    "\n",
    "Your output should be a Python list of developer names. Each name should not contain any html tag.\n",
    "\n",
    "**Instructions:**\n",
    "\n",
    "1. Find out the html tag and class names used for the developer names. You can achieve this using Chrome DevTools or clicking in 'Inspect' on any browser. Here is an example:\n",
    "\n",
    "![title](example_1.png)\n",
    "\n",
    "2. Use BeautifulSoup `find_all()` to extract all the html elements that contain the developer names. Hint: pass in the `attrs` parameter to specify the class.\n",
    "\n",
    "3. Loop through the elements found and get the text for each of them.\n",
    "\n",
    "4. While you are at it, use string manipulation techniques to replace whitespaces and linebreaks (i.e. `\\n`) in the *text* of each html element. Use a list to store the clean names. Hint: you may also use `.get_text()` instead of `.text` and pass in the desired parameters to do some string manipulation (check the documentation).\n",
    "\n",
    "5. Print the list of names.\n",
    "\n",
    "Your output should look like below:\n",
    "\n",
    "```\n",
    "['trimstray (@trimstray)',\n",
    " 'joewalnes (JoeWalnes)',\n",
    " 'charlax (Charles-AxelDein)',\n",
    " 'ForrestKnight (ForrestKnight)',\n",
    " 'revery-ui (revery-ui)',\n",
    " 'alibaba (Alibaba)',\n",
    " 'Microsoft (Microsoft)',\n",
    " 'github (GitHub)',\n",
    " 'facebook (Facebook)',\n",
    " 'boazsegev (Bo)',\n",
    " 'google (Google)',\n",
    " 'cloudfetch',\n",
    " 'sindresorhus (SindreSorhus)',\n",
    " 'tensorflow',\n",
    " 'apache (TheApacheSoftwareFoundation)',\n",
    " 'DevonCrawford (DevonCrawford)',\n",
    " 'ARMmbed (ArmMbed)',\n",
    " 'vuejs (vuejs)',\n",
    " 'fastai (fast.ai)',\n",
    " 'QiShaoXuan (Qi)',\n",
    " 'joelparkerhenderson (JoelParkerHenderson)',\n",
    " 'torvalds (LinusTorvalds)',\n",
    " 'CyC2018',\n",
    " 'komeiji-satori (神楽坂覚々)',\n",
    " 'script-8']\n",
    " ```"
   ]
  },
  {
   "cell_type": "code",
   "execution_count": null,
   "metadata": {},
   "outputs": [
    {
     "name": "stdout",
     "output_type": "stream",
     "text": [
      "ayangweb\n",
      "Myriad-Dreamin\n",
      "Arvin Xu\n",
      "0x676e67\n",
      "Aryan\n",
      "Igor\n",
      "LmeSzinc\n",
      "comfyanonymous\n",
      "DefTruth\n",
      "John Howe\n",
      "dentiny\n",
      "Xiaomeng Zhao\n",
      "hoshi-hiyouga\n",
      "Yeuoly\n",
      "QIN2DIM\n",
      "Mark M\n",
      "Mattt\n",
      "Bagheera\n",
      "DaniPopes\n",
      "Tadas Antanavicius\n",
      "Vaxry\n",
      "Luke Latham\n",
      "Miles Cranmer\n",
      "Folke Lemaitre\n",
      "Justin Chu\n"
     ]
    }
   ],
   "source": [
    "# 2. List of developer names\n",
    "\n",
    "result_1 = soup.find_all('h1', class_='h3 lh-condensed')\n",
    "\n",
    "texts = []\n",
    "\n",
    "for item in result_1:\n",
    "    text = \" \".join(item.get_text(strip=True).split())\n",
    "    texts.append(text)\n",
    "\n",
    "for t in texts:\n",
    "    print(t)\n"
   ]
  },
  {
   "cell_type": "markdown",
   "metadata": {},
   "source": [
    "#### 1.1. Display the trending Python repositories in GitHub.\n",
    "\n",
    "The steps to solve this problem is similar to the previous one except that you need to find out the repository names instead of developer names."
   ]
  },
  {
   "cell_type": "code",
   "execution_count": null,
   "metadata": {},
   "outputs": [],
   "source": [
    "# This is the url you will scrape in this exercise\n",
    "url = 'https://github.com/trending/python?since=daily'"
   ]
  },
  {
   "cell_type": "code",
   "execution_count": 30,
   "metadata": {},
   "outputs": [
    {
     "name": "stdout",
     "output_type": "stream",
     "text": [
      "BongoCat\n",
      "tinymist\n",
      "zotero-engine-list\n",
      "rnet\n",
      "finetrainers\n",
      "AzurLaneAutoScript\n",
      "ComfyUI\n",
      "lite.ai.toolkit\n",
      "bilive\n",
      "duck-read-cache-fs\n",
      "LLaMA-Factory\n",
      "0xUBypass\n",
      "hcaptcha-challenger\n",
      "hyperui\n",
      "SimpleTuner\n",
      "uniswap-rs\n",
      "mcp-server-stability-ai\n",
      "Vermilion\n",
      "PySR\n",
      "lazy.nvim\n",
      "onnx-safetensors\n"
     ]
    }
   ],
   "source": [
    "result_2 = soup.find_all('h1', class_='h4 lh-condensed')\n",
    "\n",
    "texts = []\n",
    "\n",
    "for item in result_2:\n",
    "    text = \" \".join(item.get_text(strip=True).split())\n",
    "    texts.append(text)\n",
    "\n",
    "for t in texts:\n",
    "    print(t)\n"
   ]
  },
  {
   "cell_type": "markdown",
   "metadata": {},
   "source": [
    "#### 2. Display all the image links from Walt Disney wikipedia page.\n",
    "Hint: use `.get()` to access information inside tags. Check out the documentation."
   ]
  },
  {
   "cell_type": "code",
   "execution_count": null,
   "metadata": {},
   "outputs": [],
   "source": [
    "# This is the url you will scrape in this exercise\n",
    "url = 'https://en.wikipedia.org/wiki/Walt_Disney'"
   ]
  },
  {
   "cell_type": "code",
   "execution_count": 33,
   "metadata": {},
   "outputs": [
    {
     "name": "stdout",
     "output_type": "stream",
     "text": [
      "https://avatars.githubusercontent.com/u/75017711?s=96&v=4\n",
      "https://avatars.githubusercontent.com/u/35292584?s=96&v=4\n",
      "https://avatars.githubusercontent.com/u/28616219?s=96&v=4\n",
      "https://avatars.githubusercontent.com/u/51810656?s=96&v=4\n",
      "https://avatars.githubusercontent.com/u/72266394?s=96&v=4\n",
      "https://avatars.githubusercontent.com/u/6281704?s=96&v=4\n",
      "https://avatars.githubusercontent.com/u/37934724?s=96&v=4\n",
      "https://avatars.githubusercontent.com/u/121283862?s=96&v=4\n",
      "https://avatars.githubusercontent.com/u/31974251?s=96&v=4\n",
      "https://avatars.githubusercontent.com/u/89397553?s=96&v=4\n",
      "https://avatars.githubusercontent.com/u/26985418?s=96&v=4\n",
      "https://avatars.githubusercontent.com/u/11393164?s=96&v=4\n",
      "https://avatars.githubusercontent.com/u/16256802?s=96&v=4\n",
      "https://avatars.githubusercontent.com/u/45712896?s=96&v=4\n",
      "https://avatars.githubusercontent.com/u/62018067?s=96&v=4\n",
      "https://avatars.githubusercontent.com/u/50486078?s=96&v=4\n",
      "https://avatars.githubusercontent.com/u/7659?s=96&v=4\n",
      "https://avatars.githubusercontent.com/u/59658056?s=96&v=4\n",
      "https://avatars.githubusercontent.com/u/57450786?s=96&v=4\n",
      "https://avatars.githubusercontent.com/u/3900899?s=96&v=4\n",
      "https://avatars.githubusercontent.com/u/43317083?s=96&v=4\n",
      "https://avatars.githubusercontent.com/u/1622880?s=96&v=4\n",
      "https://avatars.githubusercontent.com/u/7593028?s=96&v=4\n",
      "https://avatars.githubusercontent.com/u/292349?s=96&v=4\n",
      "https://avatars.githubusercontent.com/u/11205048?s=96&v=4\n"
     ]
    }
   ],
   "source": [
    "# your code here\n",
    "\n",
    "result_3 = soup.find_all('img')\n",
    "\n",
    "for img in result_3:\n",
    "    src = img.get('src')\n",
    "    print(src)\n"
   ]
  },
  {
   "cell_type": "markdown",
   "metadata": {},
   "source": [
    "#### 2.1. List all language names and number of related articles in the order they appear in wikipedia.org."
   ]
  },
  {
   "cell_type": "code",
   "execution_count": null,
   "metadata": {},
   "outputs": [],
   "source": [
    "# This is the url you will scrape in this exercise\n",
    "url = 'https://www.wikipedia.org/'"
   ]
  },
  {
   "cell_type": "code",
   "execution_count": 46,
   "metadata": {},
   "outputs": [
    {
     "name": "stdout",
     "output_type": "stream",
     "text": [
      "English\n",
      "æ¥æ¬èª\n",
      "Ð ÑÑÑÐºÐ¸Ð¹\n",
      "Deutsch\n",
      "EspaÃ±ol\n",
      "FranÃ§ais\n",
      "ä¸­æ\n",
      "Italiano\n",
      "PortuguÃªs\n",
      "Polski\n",
      "['English', 'æ\\x97¥æ\\x9c¬èª\\x9e', 'Ð Ñ\\x83Ñ\\x81Ñ\\x81ÐºÐ¸Ð¹', 'Deutsch', 'EspaÃ±ol', 'FranÃ§ais', 'ä¸\\xadæ\\x96\\x87', 'Italiano', 'PortuguÃªs', 'Polski']\n"
     ]
    }
   ],
   "source": [
    "result_4 = soup.find_all('div', class_='central-featured-lang')\n",
    "\n",
    "languages = []\n",
    "\n",
    "# 2. Aus jedem Div die Sprache rausholen\n",
    "for i in result_4:\n",
    "    strong_tag = i.find('strong')\n",
    "    if strong_tag:\n",
    "        text = \" \".join(strong_tag.get_text(strip=True).split())\n",
    "        languages.append(text)\n",
    "\n",
    "# 3. Ausgabe\n",
    "for l in languages:\n",
    "    print(l)\n",
    "\n",
    "# 4. Die finale Liste\n",
    "print(languages)\n"
   ]
  },
  {
   "cell_type": "markdown",
   "metadata": {},
   "source": [
    "#### 2.2. Display the top 10 languages by number of native speakers stored in a pandas dataframe.\n",
    "Hint: After finding the correct table you want to analyse, you can use a nested **for** loop to find the elements row by row (check out the 'td' and 'tr' tags). <br>An easier way to do it is using pd.read_html(), check out documentation [here](https://pandas.pydata.org/pandas-docs/version/0.23.4/generated/pandas.read_html.html)."
   ]
  },
  {
   "cell_type": "code",
   "execution_count": null,
   "metadata": {},
   "outputs": [
    {
     "data": {
      "text/html": [
       "<div>\n",
       "<style scoped>\n",
       "    .dataframe tbody tr th:only-of-type {\n",
       "        vertical-align: middle;\n",
       "    }\n",
       "\n",
       "    .dataframe tbody tr th {\n",
       "        vertical-align: top;\n",
       "    }\n",
       "\n",
       "    .dataframe thead th {\n",
       "        text-align: right;\n",
       "    }\n",
       "</style>\n",
       "<table border=\"1\" class=\"dataframe\">\n",
       "  <thead>\n",
       "    <tr style=\"text-align: right;\">\n",
       "      <th></th>\n",
       "      <th>Language</th>\n",
       "      <th>Native speakers (millions)</th>\n",
       "      <th>Language family</th>\n",
       "      <th>Branch</th>\n",
       "    </tr>\n",
       "  </thead>\n",
       "  <tbody>\n",
       "    <tr>\n",
       "      <th>0</th>\n",
       "      <td>Mandarin Chinese</td>\n",
       "      <td>990</td>\n",
       "      <td>Sino-Tibetan</td>\n",
       "      <td>Sinitic</td>\n",
       "    </tr>\n",
       "    <tr>\n",
       "      <th>1</th>\n",
       "      <td>Spanish</td>\n",
       "      <td>484</td>\n",
       "      <td>Indo-European</td>\n",
       "      <td>Romance</td>\n",
       "    </tr>\n",
       "    <tr>\n",
       "      <th>2</th>\n",
       "      <td>English</td>\n",
       "      <td>390</td>\n",
       "      <td>Indo-European</td>\n",
       "      <td>Germanic</td>\n",
       "    </tr>\n",
       "    <tr>\n",
       "      <th>3</th>\n",
       "      <td>Hindi</td>\n",
       "      <td>345</td>\n",
       "      <td>Indo-European</td>\n",
       "      <td>Indo-Aryan</td>\n",
       "    </tr>\n",
       "    <tr>\n",
       "      <th>4</th>\n",
       "      <td>Portuguese</td>\n",
       "      <td>250</td>\n",
       "      <td>Indo-European</td>\n",
       "      <td>Romance</td>\n",
       "    </tr>\n",
       "    <tr>\n",
       "      <th>5</th>\n",
       "      <td>Bengali</td>\n",
       "      <td>242</td>\n",
       "      <td>Indo-European</td>\n",
       "      <td>Indo-Aryan</td>\n",
       "    </tr>\n",
       "    <tr>\n",
       "      <th>6</th>\n",
       "      <td>Russian</td>\n",
       "      <td>145</td>\n",
       "      <td>Indo-European</td>\n",
       "      <td>Balto-Slavic</td>\n",
       "    </tr>\n",
       "    <tr>\n",
       "      <th>7</th>\n",
       "      <td>Japanese</td>\n",
       "      <td>124</td>\n",
       "      <td>Japonic</td>\n",
       "      <td>—</td>\n",
       "    </tr>\n",
       "    <tr>\n",
       "      <th>8</th>\n",
       "      <td>Western Punjabi</td>\n",
       "      <td>90</td>\n",
       "      <td>Indo-European</td>\n",
       "      <td>Indo-Aryan</td>\n",
       "    </tr>\n",
       "    <tr>\n",
       "      <th>9</th>\n",
       "      <td>Vietnamese</td>\n",
       "      <td>86</td>\n",
       "      <td>Austroasiatic</td>\n",
       "      <td>Vietic</td>\n",
       "    </tr>\n",
       "  </tbody>\n",
       "</table>\n",
       "</div>"
      ],
      "text/plain": [
       "           Language  Native speakers (millions) Language family        Branch\n",
       "0  Mandarin Chinese                         990    Sino-Tibetan       Sinitic\n",
       "1           Spanish                         484   Indo-European       Romance\n",
       "2           English                         390   Indo-European      Germanic\n",
       "3             Hindi                         345   Indo-European    Indo-Aryan\n",
       "4        Portuguese                         250   Indo-European       Romance\n",
       "5           Bengali                         242   Indo-European    Indo-Aryan\n",
       "6           Russian                         145   Indo-European  Balto-Slavic\n",
       "7          Japanese                         124         Japonic             —\n",
       "8   Western Punjabi                          90   Indo-European    Indo-Aryan\n",
       "9        Vietnamese                          86   Austroasiatic        Vietic"
      ]
     },
     "execution_count": 53,
     "metadata": {},
     "output_type": "execute_result"
    }
   ],
   "source": [
    "# This is the url you will scrape in this exercise\n",
    "url = 'https://en.wikipedia.org/wiki/List_of_languages_by_number_of_native_speakers'"
   ]
  },
  {
   "cell_type": "code",
   "execution_count": null,
   "metadata": {},
   "outputs": [],
   "source": [
    "# your code here\n",
    "tables = pd.read_html(url)\n",
    "\n",
    "df = tables[0]\n",
    "\n",
    "df.head(10)"
   ]
  },
  {
   "cell_type": "markdown",
   "metadata": {},
   "source": [
    "#### 3. Display Metacritic top 24 Best TV Shows of all time (TV Show name, initial release date, metascore rating, film rating system and description) as a pandas dataframe.\n",
    "Hint: If you hover over the title of the movie, you should see the director's name. Can you find where it's stored in the html?"
   ]
  },
  {
   "cell_type": "code",
   "execution_count": 60,
   "metadata": {},
   "outputs": [
    {
     "name": "stdout",
     "output_type": "stream",
     "text": [
      "Empty DataFrame\n",
      "Columns: [Name, Release Date, Metascore Rating, Description]\n",
      "Index: []\n"
     ]
    }
   ],
   "source": [
    "# This is the url you will scrape in this exercise \n",
    "url = 'https://www.metacritic.com/browse/tv/'\n",
    "\n",
    "response = requests.get(url)\n",
    "soup = BeautifulSoup(response.text, 'html.parser')\n",
    "\n",
    "# Extrahieren der benötigten Daten\n",
    "names = [name.get_text(strip=True) for name in soup.find_all('h3', class_='c-finderProductCard_titleHeading')]\n",
    "release_dates = [release.get_text(strip=True) for release in soup.find_all('span', class_='u-text-uppercase')]\n",
    "metascore_ratings = [metascore.get_text(strip=True) for metascore in soup.find_all('div', class_='c-siteReviewScore_background')]\n",
    "descriptions = [desc.get_text(strip=True) for desc in soup.find_all('div', class_='c-finderProductCard_description')]\n",
    "\n",
    "df = pd.DataFrame({\n",
    "    'Name': names,\n",
    "    'Release Date': release_dates,\n",
    "    'Metascore Rating': metascore_ratings,\n",
    "    'Description': descriptions\n",
    "})\n",
    "\n",
    "# Ausgabe des DataFrames\n",
    "print(df)"
   ]
  },
  {
   "cell_type": "code",
   "execution_count": null,
   "metadata": {},
   "outputs": [],
   "source": [
    "# your code here\n"
   ]
  },
  {
   "cell_type": "markdown",
   "metadata": {},
   "source": [
    "#### 3.1. Find the image source link and the TV show link. After you're able to retrieve, add them to your initial dataframe"
   ]
  },
  {
   "cell_type": "code",
   "execution_count": null,
   "metadata": {},
   "outputs": [],
   "source": [
    "# your code here"
   ]
  },
  {
   "cell_type": "markdown",
   "metadata": {},
   "source": [
    "## Bonus"
   ]
  },
  {
   "cell_type": "markdown",
   "metadata": {},
   "source": [
    "#### Find the live weather report (temperature, wind speed, description and weather) of a given city."
   ]
  },
  {
   "cell_type": "code",
   "execution_count": null,
   "metadata": {},
   "outputs": [],
   "source": [
    "#https://openweathermap.org/current\n",
    "city = input('Enter the city: ')\n",
    "url = f'https://api.weatherapi.com/v1/current.json?key=5a68dbd3fe6242678ac130253242505&q={city}&aqi=no'\n"
   ]
  },
  {
   "cell_type": "code",
   "execution_count": null,
   "metadata": {},
   "outputs": [],
   "source": [
    "# your code here"
   ]
  },
  {
   "cell_type": "markdown",
   "metadata": {},
   "source": [
    "#### Find the book name, price and stock availability from books to scrape website as a pandas dataframe."
   ]
  },
  {
   "cell_type": "code",
   "execution_count": null,
   "metadata": {},
   "outputs": [],
   "source": [
    "# This is the url you will scrape in this exercise. \n",
    "# It is a fictional bookstore created to be scraped. \n",
    "url = 'http://books.toscrape.com/'"
   ]
  },
  {
   "cell_type": "code",
   "execution_count": null,
   "metadata": {},
   "outputs": [],
   "source": [
    "# your code here"
   ]
  },
  {
   "cell_type": "markdown",
   "metadata": {},
   "source": [
    "####  Display the initial 100 books available in the homepage. Once again, collect the book name, price and its stock availability.\n",
    "\n",
    "***Hint:*** The total number of displayed books per page is 20, but you can easily move to the next page by looping through the desired number of pages and adding it to the end of the url."
   ]
  },
  {
   "cell_type": "code",
   "execution_count": null,
   "metadata": {},
   "outputs": [],
   "source": [
    "# This is the url you will scrape in this exercise\n",
    "url = 'https://books.toscrape.com/catalogue/page-'\n",
    "# This is how you will loop through each page:\n",
    "number_of_pages = int(100/20)\n",
    "each_page_urls = []\n",
    "for n in range(1, number_of_pages+1):\n",
    "    link = url+str(n)+\".html\"\n",
    "    each_page_urls.append(link)\n",
    "    \n",
    "each_page_urls"
   ]
  },
  {
   "cell_type": "code",
   "execution_count": null,
   "metadata": {},
   "outputs": [],
   "source": [
    "# your code here"
   ]
  }
 ],
 "metadata": {
  "kernelspec": {
   "display_name": "base",
   "language": "python",
   "name": "python3"
  },
  "language_info": {
   "codemirror_mode": {
    "name": "ipython",
    "version": 3
   },
   "file_extension": ".py",
   "mimetype": "text/x-python",
   "name": "python",
   "nbconvert_exporter": "python",
   "pygments_lexer": "ipython3",
   "version": "3.12.2"
  }
 },
 "nbformat": 4,
 "nbformat_minor": 4
}
